{
 "cells": [
  {
   "cell_type": "markdown",
   "metadata": {},
   "source": [
    "# Data wrangling with Pandas exercise\n",
    "* For this exercise we will be using the `listings.csv` data file."
   ]
  },
  {
   "cell_type": "code",
   "execution_count": 1,
   "metadata": {},
   "outputs": [],
   "source": [
    "import pandas as pd\n",
    "import numpy as np"
   ]
  },
  {
   "cell_type": "markdown",
   "metadata": {},
   "source": [
    "# Load in the data file using `pd.read_csv()`"
   ]
  },
  {
   "cell_type": "code",
   "execution_count": 73,
   "metadata": {},
   "outputs": [],
   "source": [
    "# Load data here\n",
    "\n",
    "grammys = pd.read_csv(\"./data/grammys.csv\")\n",
    "listings = pd.read_csv(\"./data/listings.csv\")"
   ]
  },
  {
   "cell_type": "markdown",
   "metadata": {},
   "source": [
    "## Exercise 2 - Filtering\n",
    "\n",
    "Return the following subsets of the dataframe.\n",
    "\n",
    "1. How many listings are there with a price less than 100? \n",
    "\n",
    "\n",
    "2. Find how many listings there are in just Brooklyn.\n",
    "\n",
    "\n",
    "3. Find how many listings there are in Brooklyn with a price less than 100.\n",
    "\n",
    "\n",
    "4. Using `.isin()` select anyone that has the host name of Michael, David, John, and Daniel.\n",
    "\n",
    "\n",
    "5. Create a new column called `adjusted_price` that has $100 added to every listing in Williamsburg.  The prices for all other listings should be the same as the were before. \n",
    "\n",
    "\n",
    "6. What % of the rooms are private, and what % of the rooms are shared.  \n",
    "    * Hint, use `.value_counts()`\n"
   ]
  },
  {
   "cell_type": "code",
   "execution_count": 9,
   "metadata": {},
   "outputs": [
    {
     "name": "stdout",
     "output_type": "stream",
     "text": [
      "22778\n"
     ]
    }
   ],
   "source": [
    "# 1. How many listings are there with a price less than 100? \n",
    "\n",
    "num = len([listing for listing in listings['price'] if listing < 100])\n",
    "\n",
    "print(num)\n",
    "\n"
   ]
  },
  {
   "cell_type": "code",
   "execution_count": 18,
   "metadata": {},
   "outputs": [
    {
     "name": "stdout",
     "output_type": "stream",
     "text": [
      "18632\n"
     ]
    }
   ],
   "source": [
    "# 2. Make a new DataFrame of listings in Brooklyn named `df_bk` \n",
    "# and find how many listings in just Brooklyn.\n",
    "\n",
    "df_bk = listings[listings['neighbourhood_group'] == 'Brooklyn']\n",
    "\n",
    "print(len(df_bk))"
   ]
  },
  {
   "cell_type": "code",
   "execution_count": 21,
   "metadata": {},
   "outputs": [
    {
     "name": "stdout",
     "output_type": "stream",
     "text": [
      "10473\n"
     ]
    }
   ],
   "source": [
    "# 3. Find how many listings there are in Brooklyn with a price less than 100.\n",
    "\n",
    "num = len([price for price in df_bk['price'] if price < 100])\n",
    "\n",
    "print(num)\n"
   ]
  },
  {
   "cell_type": "code",
   "execution_count": 36,
   "metadata": {},
   "outputs": [
    {
     "name": "stdout",
     "output_type": "stream",
     "text": [
      "1258\n"
     ]
    }
   ],
   "source": [
    "# 4. Using `.isin()` select anyone that has the host name of Michael, David, John, and Daniel.\n",
    "\n",
    "l = listings['host_name'].isin(['Michael', 'David', 'John', 'Daniel'])\n",
    "\n",
    "print(len([1 for isin in l if isin]))\n",
    "\n",
    "\n"
   ]
  },
  {
   "cell_type": "code",
   "execution_count": 38,
   "metadata": {},
   "outputs": [
    {
     "name": "stdout",
     "output_type": "stream",
     "text": [
      "0        275\n",
      "1        175\n",
      "2        160\n",
      "3        275\n",
      "4        165\n",
      "        ... \n",
      "46522    245\n",
      "46523    187\n",
      "46524    159\n",
      "46525    180\n",
      "46526    166\n",
      "Name: adjusted_price, Length: 46527, dtype: int64\n"
     ]
    }
   ],
   "source": [
    "# 5. Create a new column called `adjusted_price` that has $100 added to every listing in Williamsburg.  \n",
    "# The prices for all other listings should be the same as the were before. \n",
    "\n",
    "listings['adjusted_price'] = listings['price'] + 100\n",
    "\n",
    "print(listings['adjusted_price'])\n"
   ]
  },
  {
   "cell_type": "code",
   "execution_count": 52,
   "metadata": {},
   "outputs": [
    {
     "name": "stdout",
     "output_type": "stream",
     "text": [
      "45.444580566122895% 2.12134889419047%\n"
     ]
    }
   ],
   "source": [
    "# 6. What % of the rooms are private, and what % of the rooms are shared.  \n",
    "\n",
    "rooms = listings['room_type']\n",
    "\n",
    "private = len([1 for type in rooms if type==\"Private room\"]) / float(len(rooms)) * 100\n",
    "shared = len([1 for type in rooms if type==\"Shared room\"]) / float(len(rooms)) * 100\n",
    "\n",
    "print(f'{private}%', f'{shared}%')\n"
   ]
  },
  {
   "cell_type": "markdown",
   "metadata": {},
   "source": [
    "# Exercise 3 - Grouping\n",
    "\n",
    "1. Using `groupby`, count how many listings are in each neighbourhood_group.\n",
    "\n",
    "\n",
    "2. Using `groupby`, find the mean price for each of the neighbourhood_groups. \n",
    "\n",
    "\n",
    "3. Using `groupby` and `.agg()`, find the min and max price for each of the neighbourhood_groups. \n",
    "\n",
    "\n",
    "4. Using `groupby`, find the median price for each room type in each neighbourhood_group.\n",
    "\n",
    "\n",
    "5. Using `groupby` and `.agg()`, find the count, min, max, mean, median, and std of the prices for each room type in each neighbourhood_group."
   ]
  },
  {
   "cell_type": "code",
   "execution_count": 59,
   "metadata": {},
   "outputs": [
    {
     "name": "stdout",
     "output_type": "stream",
     "text": [
      "neighbourhood_group\n",
      "Bronx             1183\n",
      "Brooklyn         18632\n",
      "Manhattan        20580\n",
      "Queens            5791\n",
      "Staten Island      341\n",
      "dtype: int64\n"
     ]
    }
   ],
   "source": [
    "# 1. Using `groupby`, count how many listings are in each neighbourhood_group.\n",
    "\n",
    "print(listings.groupby(by=\"neighbourhood_group\").size())\n",
    "\n",
    "\n"
   ]
  },
  {
   "cell_type": "code",
   "execution_count": 62,
   "metadata": {},
   "outputs": [
    {
     "name": "stdout",
     "output_type": "stream",
     "text": [
      "neighbourhood_group\n",
      "Bronx             92.751479\n",
      "Brooklyn         120.225258\n",
      "Manhattan        191.880466\n",
      "Queens            99.754965\n",
      "Staten Island    110.947214\n",
      "Name: price, dtype: float64\n"
     ]
    }
   ],
   "source": [
    "# 2. Using `groupby`, find the mean price for each of the neighbourhood_groups. \n",
    "\n",
    "print(listings.groupby(by=\"neighbourhood_group\").mean()['price'])\n"
   ]
  },
  {
   "cell_type": "code",
   "execution_count": 64,
   "metadata": {},
   "outputs": [
    {
     "name": "stdout",
     "output_type": "stream",
     "text": [
      "                     min    max\n",
      "neighbourhood_group            \n",
      "Bronx                 16   1404\n",
      "Brooklyn               0  10000\n",
      "Manhattan              0  10000\n",
      "Queens                 0  10000\n",
      "Staten Island         19   1200\n"
     ]
    },
    {
     "name": "stderr",
     "output_type": "stream",
     "text": [
      "C:\\Users\\12155\\AppData\\Local\\Temp\\ipykernel_13948\\1465283505.py:3: FutureWarning: ['name', 'host_name', 'last_review'] did not aggregate successfully. If any error is raised this will raise in a future version of pandas. Drop these columns/ops to avoid this warning.\n",
      "  print(listings.groupby(by=\"neighbourhood_group\").agg(['min', 'max'])['price'])\n"
     ]
    }
   ],
   "source": [
    "# 3. Using `groupby` and `.agg()`, find the min and max price for each of the neighbourhood_groups. \n",
    "\n",
    "print(listings.groupby(by=\"neighbourhood_group\").agg(['min', 'max'])['price'])\n"
   ]
  },
  {
   "cell_type": "code",
   "execution_count": 71,
   "metadata": {},
   "outputs": [
    {
     "name": "stdout",
     "output_type": "stream",
     "text": [
      "neighbourhood_group  room_type      \n",
      "Bronx                Entire home/apt    138.004819\n",
      "                     Private room        68.419668\n",
      "                     Shared room         66.391304\n",
      "Brooklyn             Entire home/apt    171.587687\n",
      "                     Hotel room         147.300000\n",
      "                     Private room        71.291189\n",
      "                     Shared room         57.870091\n",
      "Manhattan            Entire home/apt    231.335572\n",
      "                     Hotel room         292.515670\n",
      "                     Private room       128.277069\n",
      "                     Shared room        111.735084\n",
      "Queens               Entire home/apt    150.168900\n",
      "                     Hotel room         139.058824\n",
      "                     Private room        69.972564\n",
      "                     Shared room         89.891892\n",
      "Staten Island        Entire home/apt    151.720930\n",
      "                     Private room        70.312883\n",
      "                     Shared room         46.000000\n",
      "Name: price, dtype: float64\n"
     ]
    }
   ],
   "source": [
    "# 4. Using `groupby`, find the mean price for each room type in each neighbourhood_group.\n",
    "\n",
    "print(listings.groupby(['neighbourhood_group', 'room_type']).mean()['price'])"
   ]
  },
  {
   "cell_type": "code",
   "execution_count": 72,
   "metadata": {},
   "outputs": [
    {
     "name": "stdout",
     "output_type": "stream",
     "text": [
      "                                     min    max        mean  median  \\\n",
      "neighbourhood_group room_type                                         \n",
      "Bronx               Entire home/apt   25   1404  138.004819   103.0   \n",
      "                    Private room      16    700   68.419668    55.0   \n",
      "                    Shared room       20    800   66.391304    44.0   \n",
      "Brooklyn            Entire home/apt   20  10000  171.587687   135.0   \n",
      "                    Hotel room         0    399  147.300000   129.0   \n",
      "                    Private room      10   2500   71.291189    60.0   \n",
      "                    Shared room       15   1500   57.870091    36.0   \n",
      "Manhattan           Entire home/apt    0  10000  231.335572   165.0   \n",
      "                    Hotel room         0   2211  292.515670   210.0   \n",
      "                    Private room      10  10000  128.277069    80.0   \n",
      "                    Shared room       10  10000  111.735084    60.0   \n",
      "Queens              Entire home/apt   10  10000  150.168900   115.0   \n",
      "                    Hotel room         0    249  139.058824   149.0   \n",
      "                    Private room      18   9000   69.972564    55.0   \n",
      "                    Shared room       14   3000   89.891892    40.0   \n",
      "Staten Island       Entire home/apt   39   1200  151.720930   111.0   \n",
      "                    Private room      20    800   70.312883    55.0   \n",
      "                    Shared room       19     82   46.000000    38.0   \n",
      "\n",
      "                                            std  \n",
      "neighbourhood_group room_type                    \n",
      "Bronx               Entire home/apt  126.032106  \n",
      "                    Private room      57.337866  \n",
      "                    Shared room      114.442703  \n",
      "Brooklyn            Entire home/apt  236.732843  \n",
      "                    Hotel room        91.153206  \n",
      "                    Private room      69.023165  \n",
      "                    Shared room       92.217618  \n",
      "Manhattan           Entire home/apt  410.306439  \n",
      "                    Hotel room       315.924085  \n",
      "                    Private room     448.677306  \n",
      "                    Shared room      502.728868  \n",
      "Queens              Entire home/apt  252.606739  \n",
      "                    Hotel room        50.743806  \n",
      "                    Private room     163.814468  \n",
      "                    Shared room      275.675158  \n",
      "Staten Island       Entire home/apt  147.518392  \n",
      "                    Private room      70.759593  \n",
      "                    Shared room       28.446441  \n"
     ]
    },
    {
     "name": "stderr",
     "output_type": "stream",
     "text": [
      "C:\\Users\\12155\\AppData\\Local\\Temp\\ipykernel_13948\\3027640731.py:6: FutureWarning: ['name', 'host_name', 'neighbourhood', 'last_review'] did not aggregate successfully. If any error is raised this will raise in a future version of pandas. Drop these columns/ops to avoid this warning.\n",
      "  print(listings.groupby(group).agg(aggArr)['price'])\n"
     ]
    }
   ],
   "source": [
    "# 5. Using `groupby` and `.agg()`, find the count, min, max, mean, median, and std of the prices \n",
    "# for each room type in each neighbourhood_group.\n",
    "\n",
    "group = ['neighbourhood_group', 'room_type']\n",
    "aggArr = ['min', 'max', 'mean', 'median', 'std']\n",
    "print(listings.groupby(group).agg(aggArr)['price'])\n",
    "\n"
   ]
  },
  {
   "cell_type": "markdown",
   "metadata": {},
   "source": [
    "# Join and file saving.\n",
    "1. Load the `prices.csv` and the `n_listings.csv`\n",
    "\n",
    "\n",
    "2. Do join that keeps all the records for each table.\n",
    "    * Neighbourhood groups should include ['Bronx', 'Brooklyn', 'Manhattan', 'Queens', 'Staten Island',\n",
    "       'LongIsland']\n",
    "       \n",
    "       \n",
    "3. Save your joined csv as `joined.csv`\n",
    "\n",
    "\n",
    "4. Load your saved table and see if it looks the same or different that the DataFrame you used to create it. "
   ]
  },
  {
   "cell_type": "code",
   "execution_count": 74,
   "metadata": {},
   "outputs": [],
   "source": [
    "# 1. Load the `prices.csv` and the `n_listings.csv`\n",
    "\n",
    "n_listings = pd.read_csv(\"./data/n_listings.csv\")\n",
    "prices = pd.read_csv(\"./data/prices.csv\")"
   ]
  },
  {
   "cell_type": "code",
   "execution_count": 76,
   "metadata": {},
   "outputs": [
    {
     "name": "stdout",
     "output_type": "stream",
     "text": [
      "  neighbourhood_group;n_listings neighbourhood_group   mean_price\n",
      "0                     Bronx;1183               Bronx    92.751479\n",
      "1                 Brooklyn;18632            Brooklyn   120.225258\n",
      "2                Manhattan;20580           Manhattan   191.880466\n",
      "3                LongIsland;4121              Queens    99.754965\n"
     ]
    }
   ],
   "source": [
    "# 2. Do join that keeps all the records for each table.\n",
    "\n",
    "print(pd.merge(n_listings, prices, left_index=True, right_index=True))\n"
   ]
  },
  {
   "cell_type": "markdown",
   "metadata": {},
   "source": [
    "# Use the grammys.csv data for the next section of questions.\n",
    "\n",
    "1. Who was won Album of the Year in 2016?\n",
    "\n",
    "\n",
    "2. Who won Best Rap Album in 2009?\n",
    "\n",
    "\n",
    "3. How many awards was Kendrick Lamar nomiated for, and how many did he win...?"
   ]
  },
  {
   "cell_type": "code",
   "execution_count": 117,
   "metadata": {},
   "outputs": [
    {
     "name": "stdout",
     "output_type": "stream",
     "text": [
      "5505    Taylor Swift (artist/producer), Jack Antonoff ...\n",
      "Name: workers, dtype: object\n"
     ]
    }
   ],
   "source": [
    "#  1. Who was won Album of the Year in 2016?\n",
    "\n",
    "winner_album_2016 = grammys[(grammys['category']==\"Album of the Year\") & (grammys['year']==2016) & (grammys['winner']==True)]['workers']\n",
    "\n",
    "print(winner_album_2016)"
   ]
  },
  {
   "cell_type": "code",
   "execution_count": 116,
   "metadata": {},
   "outputs": [
    {
     "name": "stdout",
     "output_type": "stream",
     "text": [
      "4396    Lil' Wayne\n",
      "Name: workers, dtype: object\n"
     ]
    }
   ],
   "source": [
    "# 2. Who won Best Rap Album in 2009?\n",
    "\n",
    "winner_best_rap_album = grammys[(grammys['category']==\"Best Rap Album\") & (grammys['year']==2009) & (grammys['winner']==True)]['workers']\n",
    "\n",
    "print(winner_best_rap_album)"
   ]
  },
  {
   "cell_type": "code",
   "execution_count": 127,
   "metadata": {},
   "outputs": [
    {
     "name": "stdout",
     "output_type": "stream",
     "text": [
      "2 1\n"
     ]
    }
   ],
   "source": [
    "# 3. How many awards was Kendrick Lamar nomiated for, and how many did he win...?\n",
    "has_kendrick_lamar = (grammys['nominee'].str.contains(\"Kendrick Lamar\", na=False))\n",
    "\n",
    "awards = grammys[has_kendrick_lamar]\n",
    "\n",
    "awards_won = grammys[(grammys['winner']==True) & has_kendrick_lamar]\n",
    "\n",
    "print(len(awards), len(awards_won))"
   ]
  }
 ],
 "metadata": {
  "kernelspec": {
   "display_name": "Python 3.9.12 ('base')",
   "language": "python",
   "name": "python3"
  },
  "language_info": {
   "codemirror_mode": {
    "name": "ipython",
    "version": 3
   },
   "file_extension": ".py",
   "mimetype": "text/x-python",
   "name": "python",
   "nbconvert_exporter": "python",
   "pygments_lexer": "ipython3",
   "version": "3.9.12"
  },
  "vscode": {
   "interpreter": {
    "hash": "0177d0ca724d99fc9d9de0a2ae00e2d66b72ca0ca69940b55a9dab5155c95f74"
   }
  }
 },
 "nbformat": 4,
 "nbformat_minor": 2
}
